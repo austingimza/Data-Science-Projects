{
 "cells": [
  {
   "cell_type": "code",
   "execution_count": 1,
   "id": "a4c9382d",
   "metadata": {
    "_cell_guid": "b1076dfc-b9ad-4769-8c92-a6c4dae69d19",
    "_uuid": "8f2839f25d086af736a60e9eeb907d3b93b6e0e5",
    "execution": {
     "iopub.execute_input": "2023-10-09T02:36:04.977920Z",
     "iopub.status.busy": "2023-10-09T02:36:04.976430Z",
     "iopub.status.idle": "2023-10-09T02:36:07.126142Z",
     "shell.execute_reply": "2023-10-09T02:36:07.125177Z"
    },
    "papermill": {
     "duration": 2.162619,
     "end_time": "2023-10-09T02:36:07.128566",
     "exception": false,
     "start_time": "2023-10-09T02:36:04.965947",
     "status": "completed"
    },
    "tags": []
   },
   "outputs": [
    {
     "name": "stdout",
     "output_type": "stream",
     "text": [
      "/kaggle/input/spaceship-titanic/sample_submission.csv\n",
      "/kaggle/input/spaceship-titanic/train.csv\n",
      "/kaggle/input/spaceship-titanic/test.csv\n"
     ]
    }
   ],
   "source": [
    "\n",
    "import numpy as np\n",
    "import pandas as pd \n",
    "import seaborn as sns\n",
    "import matplotlib.pyplot as plt\n",
    "\n",
    "\n",
    "import os\n",
    "for dirname, _, filenames in os.walk('/kaggle/input'):\n",
    "    for filename in filenames:\n",
    "        print(os.path.join(dirname, filename))\n"
   ]
  },
  {
   "cell_type": "markdown",
   "id": "1b7dcfc8",
   "metadata": {
    "papermill": {
     "duration": 0.006853,
     "end_time": "2023-10-09T02:36:07.143224",
     "exception": false,
     "start_time": "2023-10-09T02:36:07.136371",
     "status": "completed"
    },
    "tags": []
   },
   "source": [
    "**Data Cleaning**"
   ]
  },
  {
   "cell_type": "code",
   "execution_count": 2,
   "id": "fd3383b4",
   "metadata": {
    "execution": {
     "iopub.execute_input": "2023-10-09T02:36:07.159827Z",
     "iopub.status.busy": "2023-10-09T02:36:07.158608Z",
     "iopub.status.idle": "2023-10-09T02:36:07.250203Z",
     "shell.execute_reply": "2023-10-09T02:36:07.248939Z"
    },
    "papermill": {
     "duration": 0.102288,
     "end_time": "2023-10-09T02:36:07.252630",
     "exception": false,
     "start_time": "2023-10-09T02:36:07.150342",
     "status": "completed"
    },
    "tags": []
   },
   "outputs": [
    {
     "data": {
      "text/html": [
       "<div>\n",
       "<style scoped>\n",
       "    .dataframe tbody tr th:only-of-type {\n",
       "        vertical-align: middle;\n",
       "    }\n",
       "\n",
       "    .dataframe tbody tr th {\n",
       "        vertical-align: top;\n",
       "    }\n",
       "\n",
       "    .dataframe thead th {\n",
       "        text-align: right;\n",
       "    }\n",
       "</style>\n",
       "<table border=\"1\" class=\"dataframe\">\n",
       "  <thead>\n",
       "    <tr style=\"text-align: right;\">\n",
       "      <th></th>\n",
       "      <th>PassengerId</th>\n",
       "      <th>HomePlanet</th>\n",
       "      <th>CryoSleep</th>\n",
       "      <th>Cabin</th>\n",
       "      <th>Destination</th>\n",
       "      <th>Age</th>\n",
       "      <th>VIP</th>\n",
       "      <th>RoomService</th>\n",
       "      <th>FoodCourt</th>\n",
       "      <th>ShoppingMall</th>\n",
       "      <th>Spa</th>\n",
       "      <th>VRDeck</th>\n",
       "      <th>Name</th>\n",
       "      <th>Transported</th>\n",
       "    </tr>\n",
       "  </thead>\n",
       "  <tbody>\n",
       "    <tr>\n",
       "      <th>0</th>\n",
       "      <td>0001_01</td>\n",
       "      <td>Europa</td>\n",
       "      <td>False</td>\n",
       "      <td>B/0/P</td>\n",
       "      <td>TRAPPIST-1e</td>\n",
       "      <td>39.0</td>\n",
       "      <td>False</td>\n",
       "      <td>0.0</td>\n",
       "      <td>0.0</td>\n",
       "      <td>0.0</td>\n",
       "      <td>0.0</td>\n",
       "      <td>0.0</td>\n",
       "      <td>Maham Ofracculy</td>\n",
       "      <td>False</td>\n",
       "    </tr>\n",
       "    <tr>\n",
       "      <th>1</th>\n",
       "      <td>0002_01</td>\n",
       "      <td>Earth</td>\n",
       "      <td>False</td>\n",
       "      <td>F/0/S</td>\n",
       "      <td>TRAPPIST-1e</td>\n",
       "      <td>24.0</td>\n",
       "      <td>False</td>\n",
       "      <td>109.0</td>\n",
       "      <td>9.0</td>\n",
       "      <td>25.0</td>\n",
       "      <td>549.0</td>\n",
       "      <td>44.0</td>\n",
       "      <td>Juanna Vines</td>\n",
       "      <td>True</td>\n",
       "    </tr>\n",
       "    <tr>\n",
       "      <th>2</th>\n",
       "      <td>0003_01</td>\n",
       "      <td>Europa</td>\n",
       "      <td>False</td>\n",
       "      <td>A/0/S</td>\n",
       "      <td>TRAPPIST-1e</td>\n",
       "      <td>58.0</td>\n",
       "      <td>True</td>\n",
       "      <td>43.0</td>\n",
       "      <td>3576.0</td>\n",
       "      <td>0.0</td>\n",
       "      <td>6715.0</td>\n",
       "      <td>49.0</td>\n",
       "      <td>Altark Susent</td>\n",
       "      <td>False</td>\n",
       "    </tr>\n",
       "    <tr>\n",
       "      <th>3</th>\n",
       "      <td>0003_02</td>\n",
       "      <td>Europa</td>\n",
       "      <td>False</td>\n",
       "      <td>A/0/S</td>\n",
       "      <td>TRAPPIST-1e</td>\n",
       "      <td>33.0</td>\n",
       "      <td>False</td>\n",
       "      <td>0.0</td>\n",
       "      <td>1283.0</td>\n",
       "      <td>371.0</td>\n",
       "      <td>3329.0</td>\n",
       "      <td>193.0</td>\n",
       "      <td>Solam Susent</td>\n",
       "      <td>False</td>\n",
       "    </tr>\n",
       "    <tr>\n",
       "      <th>4</th>\n",
       "      <td>0004_01</td>\n",
       "      <td>Earth</td>\n",
       "      <td>False</td>\n",
       "      <td>F/1/S</td>\n",
       "      <td>TRAPPIST-1e</td>\n",
       "      <td>16.0</td>\n",
       "      <td>False</td>\n",
       "      <td>303.0</td>\n",
       "      <td>70.0</td>\n",
       "      <td>151.0</td>\n",
       "      <td>565.0</td>\n",
       "      <td>2.0</td>\n",
       "      <td>Willy Santantines</td>\n",
       "      <td>True</td>\n",
       "    </tr>\n",
       "  </tbody>\n",
       "</table>\n",
       "</div>"
      ],
      "text/plain": [
       "  PassengerId HomePlanet CryoSleep  Cabin  Destination   Age    VIP  \\\n",
       "0     0001_01     Europa     False  B/0/P  TRAPPIST-1e  39.0  False   \n",
       "1     0002_01      Earth     False  F/0/S  TRAPPIST-1e  24.0  False   \n",
       "2     0003_01     Europa     False  A/0/S  TRAPPIST-1e  58.0   True   \n",
       "3     0003_02     Europa     False  A/0/S  TRAPPIST-1e  33.0  False   \n",
       "4     0004_01      Earth     False  F/1/S  TRAPPIST-1e  16.0  False   \n",
       "\n",
       "   RoomService  FoodCourt  ShoppingMall     Spa  VRDeck               Name  \\\n",
       "0          0.0        0.0           0.0     0.0     0.0    Maham Ofracculy   \n",
       "1        109.0        9.0          25.0   549.0    44.0       Juanna Vines   \n",
       "2         43.0     3576.0           0.0  6715.0    49.0      Altark Susent   \n",
       "3          0.0     1283.0         371.0  3329.0   193.0       Solam Susent   \n",
       "4        303.0       70.0         151.0   565.0     2.0  Willy Santantines   \n",
       "\n",
       "   Transported  \n",
       "0        False  \n",
       "1         True  \n",
       "2        False  \n",
       "3        False  \n",
       "4         True  "
      ]
     },
     "execution_count": 2,
     "metadata": {},
     "output_type": "execute_result"
    }
   ],
   "source": [
    "df = pd.read_csv('/kaggle/input/spaceship-titanic/train.csv')\n",
    "df.head(5)"
   ]
  },
  {
   "cell_type": "code",
   "execution_count": 3,
   "id": "d2ad3ad0",
   "metadata": {
    "execution": {
     "iopub.execute_input": "2023-10-09T02:36:07.269286Z",
     "iopub.status.busy": "2023-10-09T02:36:07.268905Z",
     "iopub.status.idle": "2023-10-09T02:36:07.306529Z",
     "shell.execute_reply": "2023-10-09T02:36:07.305253Z"
    },
    "papermill": {
     "duration": 0.048233,
     "end_time": "2023-10-09T02:36:07.308640",
     "exception": false,
     "start_time": "2023-10-09T02:36:07.260407",
     "status": "completed"
    },
    "tags": []
   },
   "outputs": [
    {
     "name": "stdout",
     "output_type": "stream",
     "text": [
      "HomePlanet\n",
      "Earth     0.541922\n",
      "Europa    0.250942\n",
      "Mars      0.207136\n",
      "Name: proportion, dtype: float64\n",
      "Destination\n",
      "TRAPPIST-1e      0.694983\n",
      "55 Cancri e      0.211491\n",
      "PSO J318.5-22    0.093526\n",
      "Name: proportion, dtype: float64\n"
     ]
    },
    {
     "data": {
      "text/plain": [
       "CabinDeck\n",
       "F    0.328938\n",
       "G    0.301271\n",
       "E    0.103132\n",
       "B    0.091712\n",
       "C    0.087944\n",
       "D    0.056275\n",
       "A    0.030139\n",
       "T    0.000589\n",
       "Name: proportion, dtype: float64"
      ]
     },
     "execution_count": 3,
     "metadata": {},
     "output_type": "execute_result"
    }
   ],
   "source": [
    "for col in ['HomePlanet','Destination']:\n",
    "    print(df[col].value_counts(normalize=True))\n",
    "\n",
    "df_dist=df.copy()\n",
    "df_dist['CabinDeck'] = df['Cabin'].str.split('/',expand=True)[0]\n",
    "df_dist['CabinDeck'].value_counts(normalize=True)"
   ]
  },
  {
   "cell_type": "code",
   "execution_count": 4,
   "id": "868d7e96",
   "metadata": {
    "execution": {
     "iopub.execute_input": "2023-10-09T02:36:07.326073Z",
     "iopub.status.busy": "2023-10-09T02:36:07.325411Z",
     "iopub.status.idle": "2023-10-09T02:36:07.352095Z",
     "shell.execute_reply": "2023-10-09T02:36:07.350790Z"
    },
    "papermill": {
     "duration": 0.037967,
     "end_time": "2023-10-09T02:36:07.354298",
     "exception": false,
     "start_time": "2023-10-09T02:36:07.316331",
     "status": "completed"
    },
    "tags": []
   },
   "outputs": [
    {
     "name": "stdout",
     "output_type": "stream",
     "text": [
      "<class 'pandas.core.frame.DataFrame'>\n",
      "RangeIndex: 8693 entries, 0 to 8692\n",
      "Data columns (total 14 columns):\n",
      " #   Column        Non-Null Count  Dtype  \n",
      "---  ------        --------------  -----  \n",
      " 0   PassengerId   8693 non-null   object \n",
      " 1   HomePlanet    8492 non-null   object \n",
      " 2   CryoSleep     8476 non-null   object \n",
      " 3   Cabin         8494 non-null   object \n",
      " 4   Destination   8511 non-null   object \n",
      " 5   Age           8514 non-null   float64\n",
      " 6   VIP           8490 non-null   object \n",
      " 7   RoomService   8512 non-null   float64\n",
      " 8   FoodCourt     8510 non-null   float64\n",
      " 9   ShoppingMall  8485 non-null   float64\n",
      " 10  Spa           8510 non-null   float64\n",
      " 11  VRDeck        8505 non-null   float64\n",
      " 12  Name          8493 non-null   object \n",
      " 13  Transported   8693 non-null   bool   \n",
      "dtypes: bool(1), float64(6), object(7)\n",
      "memory usage: 891.5+ KB\n"
     ]
    }
   ],
   "source": [
    "df.info()"
   ]
  },
  {
   "cell_type": "code",
   "execution_count": 5,
   "id": "68d11229",
   "metadata": {
    "execution": {
     "iopub.execute_input": "2023-10-09T02:36:07.371695Z",
     "iopub.status.busy": "2023-10-09T02:36:07.371358Z",
     "iopub.status.idle": "2023-10-09T02:36:07.401518Z",
     "shell.execute_reply": "2023-10-09T02:36:07.399838Z"
    },
    "papermill": {
     "duration": 0.041903,
     "end_time": "2023-10-09T02:36:07.404068",
     "exception": false,
     "start_time": "2023-10-09T02:36:07.362165",
     "status": "completed"
    },
    "tags": []
   },
   "outputs": [
    {
     "data": {
      "text/html": [
       "<div>\n",
       "<style scoped>\n",
       "    .dataframe tbody tr th:only-of-type {\n",
       "        vertical-align: middle;\n",
       "    }\n",
       "\n",
       "    .dataframe tbody tr th {\n",
       "        vertical-align: top;\n",
       "    }\n",
       "\n",
       "    .dataframe thead th {\n",
       "        text-align: right;\n",
       "    }\n",
       "</style>\n",
       "<table border=\"1\" class=\"dataframe\">\n",
       "  <thead>\n",
       "    <tr style=\"text-align: right;\">\n",
       "      <th></th>\n",
       "      <th>Age</th>\n",
       "      <th>RoomService</th>\n",
       "      <th>FoodCourt</th>\n",
       "      <th>ShoppingMall</th>\n",
       "      <th>Spa</th>\n",
       "      <th>VRDeck</th>\n",
       "    </tr>\n",
       "  </thead>\n",
       "  <tbody>\n",
       "    <tr>\n",
       "      <th>count</th>\n",
       "      <td>8514.000000</td>\n",
       "      <td>8512.000000</td>\n",
       "      <td>8510.000000</td>\n",
       "      <td>8485.000000</td>\n",
       "      <td>8510.000000</td>\n",
       "      <td>8505.000000</td>\n",
       "    </tr>\n",
       "    <tr>\n",
       "      <th>mean</th>\n",
       "      <td>28.827930</td>\n",
       "      <td>224.687617</td>\n",
       "      <td>458.077203</td>\n",
       "      <td>173.729169</td>\n",
       "      <td>311.138778</td>\n",
       "      <td>304.854791</td>\n",
       "    </tr>\n",
       "    <tr>\n",
       "      <th>std</th>\n",
       "      <td>14.489021</td>\n",
       "      <td>666.717663</td>\n",
       "      <td>1611.489240</td>\n",
       "      <td>604.696458</td>\n",
       "      <td>1136.705535</td>\n",
       "      <td>1145.717189</td>\n",
       "    </tr>\n",
       "    <tr>\n",
       "      <th>min</th>\n",
       "      <td>0.000000</td>\n",
       "      <td>0.000000</td>\n",
       "      <td>0.000000</td>\n",
       "      <td>0.000000</td>\n",
       "      <td>0.000000</td>\n",
       "      <td>0.000000</td>\n",
       "    </tr>\n",
       "    <tr>\n",
       "      <th>25%</th>\n",
       "      <td>19.000000</td>\n",
       "      <td>0.000000</td>\n",
       "      <td>0.000000</td>\n",
       "      <td>0.000000</td>\n",
       "      <td>0.000000</td>\n",
       "      <td>0.000000</td>\n",
       "    </tr>\n",
       "    <tr>\n",
       "      <th>50%</th>\n",
       "      <td>27.000000</td>\n",
       "      <td>0.000000</td>\n",
       "      <td>0.000000</td>\n",
       "      <td>0.000000</td>\n",
       "      <td>0.000000</td>\n",
       "      <td>0.000000</td>\n",
       "    </tr>\n",
       "    <tr>\n",
       "      <th>75%</th>\n",
       "      <td>38.000000</td>\n",
       "      <td>47.000000</td>\n",
       "      <td>76.000000</td>\n",
       "      <td>27.000000</td>\n",
       "      <td>59.000000</td>\n",
       "      <td>46.000000</td>\n",
       "    </tr>\n",
       "    <tr>\n",
       "      <th>max</th>\n",
       "      <td>79.000000</td>\n",
       "      <td>14327.000000</td>\n",
       "      <td>29813.000000</td>\n",
       "      <td>23492.000000</td>\n",
       "      <td>22408.000000</td>\n",
       "      <td>24133.000000</td>\n",
       "    </tr>\n",
       "  </tbody>\n",
       "</table>\n",
       "</div>"
      ],
      "text/plain": [
       "               Age   RoomService     FoodCourt  ShoppingMall           Spa  \\\n",
       "count  8514.000000   8512.000000   8510.000000   8485.000000   8510.000000   \n",
       "mean     28.827930    224.687617    458.077203    173.729169    311.138778   \n",
       "std      14.489021    666.717663   1611.489240    604.696458   1136.705535   \n",
       "min       0.000000      0.000000      0.000000      0.000000      0.000000   \n",
       "25%      19.000000      0.000000      0.000000      0.000000      0.000000   \n",
       "50%      27.000000      0.000000      0.000000      0.000000      0.000000   \n",
       "75%      38.000000     47.000000     76.000000     27.000000     59.000000   \n",
       "max      79.000000  14327.000000  29813.000000  23492.000000  22408.000000   \n",
       "\n",
       "             VRDeck  \n",
       "count   8505.000000  \n",
       "mean     304.854791  \n",
       "std     1145.717189  \n",
       "min        0.000000  \n",
       "25%        0.000000  \n",
       "50%        0.000000  \n",
       "75%       46.000000  \n",
       "max    24133.000000  "
      ]
     },
     "execution_count": 5,
     "metadata": {},
     "output_type": "execute_result"
    }
   ],
   "source": [
    "df.describe()"
   ]
  },
  {
   "cell_type": "markdown",
   "id": "e4e6e3a8",
   "metadata": {
    "papermill": {
     "duration": 0.007814,
     "end_time": "2023-10-09T02:36:07.420559",
     "exception": false,
     "start_time": "2023-10-09T02:36:07.412745",
     "status": "completed"
    },
    "tags": []
   },
   "source": [
    "Removing outliers"
   ]
  },
  {
   "cell_type": "code",
   "execution_count": 6,
   "id": "8a86e070",
   "metadata": {
    "execution": {
     "iopub.execute_input": "2023-10-09T02:36:07.441119Z",
     "iopub.status.busy": "2023-10-09T02:36:07.440692Z",
     "iopub.status.idle": "2023-10-09T02:36:07.829076Z",
     "shell.execute_reply": "2023-10-09T02:36:07.827973Z"
    },
    "papermill": {
     "duration": 0.401362,
     "end_time": "2023-10-09T02:36:07.831978",
     "exception": false,
     "start_time": "2023-10-09T02:36:07.430616",
     "status": "completed"
    },
    "tags": []
   },
   "outputs": [
    {
     "data": {
      "text/plain": [
       "<Axes: >"
      ]
     },
     "execution_count": 6,
     "metadata": {},
     "output_type": "execute_result"
    },
    {
     "data": {
      "image/png": "[encoded data removed]",
      "text/plain": [
       "<Figure size 640x480 with 1 Axes>"
      ]
     },
     "metadata": {},
     "output_type": "display_data"
    }
   ],
   "source": [
    "df.drop(['Age','Transported'],axis=1).boxplot()"
   ]
  },
  {
   "cell_type": "code",
   "execution_count": 7,
   "id": "bed0dd3d",
   "metadata": {
    "execution": {
     "iopub.execute_input": "2023-10-09T02:36:07.851709Z",
     "iopub.status.busy": "2023-10-09T02:36:07.851330Z",
     "iopub.status.idle": "2023-10-09T02:36:07.857010Z",
     "shell.execute_reply": "2023-10-09T02:36:07.855830Z"
    },
    "papermill": {
     "duration": 0.018377,
     "end_time": "2023-10-09T02:36:07.859305",
     "exception": false,
     "start_time": "2023-10-09T02:36:07.840928",
     "status": "completed"
    },
    "tags": []
   },
   "outputs": [],
   "source": [
    "def count_outliers(df,columns):\n",
    "    iqr = df[columns].quantile(0.75)-df[columns].quantile(0.25)\n",
    "    upper_bound = df[columns].quantile(0.75)+(1.5*iqr)\n",
    "    return (df[columns] > upper_bound).sum()"
   ]
  },
  {
   "cell_type": "code",
   "execution_count": 8,
   "id": "736a6b2b",
   "metadata": {
    "execution": {
     "iopub.execute_input": "2023-10-09T02:36:07.879089Z",
     "iopub.status.busy": "2023-10-09T02:36:07.878720Z",
     "iopub.status.idle": "2023-10-09T02:36:07.896044Z",
     "shell.execute_reply": "2023-10-09T02:36:07.894724Z"
    },
    "papermill": {
     "duration": 0.030485,
     "end_time": "2023-10-09T02:36:07.898674",
     "exception": false,
     "start_time": "2023-10-09T02:36:07.868189",
     "status": "completed"
    },
    "tags": []
   },
   "outputs": [
    {
     "data": {
      "text/plain": [
       "RoomService     1861\n",
       "FoodCourt       1823\n",
       "ShoppingMall    1829\n",
       "Spa             1788\n",
       "VRDeck          1809\n",
       "dtype: int64"
      ]
     },
     "execution_count": 8,
     "metadata": {},
     "output_type": "execute_result"
    }
   ],
   "source": [
    "spending = ['RoomService','FoodCourt','ShoppingMall','Spa','VRDeck']\n",
    "count_outliers(df,spending)"
   ]
  },
  {
   "cell_type": "code",
   "execution_count": 9,
   "id": "ff4e3dfa",
   "metadata": {
    "execution": {
     "iopub.execute_input": "2023-10-09T02:36:07.919982Z",
     "iopub.status.busy": "2023-10-09T02:36:07.919260Z",
     "iopub.status.idle": "2023-10-09T02:36:07.925713Z",
     "shell.execute_reply": "2023-10-09T02:36:07.924602Z"
    },
    "papermill": {
     "duration": 0.019704,
     "end_time": "2023-10-09T02:36:07.927869",
     "exception": false,
     "start_time": "2023-10-09T02:36:07.908165",
     "status": "completed"
    },
    "tags": []
   },
   "outputs": [],
   "source": [
    "def clean_cols(d):\n",
    "    df = d.copy()\n",
    "    df['CabinDeck'] = df['Cabin'].str.split('/',expand=True)[0]\n",
    "    df = df.drop(['PassengerId','Cabin','Name'],axis=1)\n",
    "    df[['VIP','CryoSleep']] = df[['VIP','CryoSleep']].fillna(False)\n",
    "    df[['CryoSleep','VIP']] = df[['CryoSleep', 'VIP']].astype(bool)\n",
    "    df = df.dropna(how='any', subset=['HomePlanet','CabinDeck','Destination'])\n",
    "    return df"
   ]
  },
  {
   "cell_type": "code",
   "execution_count": 10,
   "id": "bf8eb2b6",
   "metadata": {
    "execution": {
     "iopub.execute_input": "2023-10-09T02:36:07.950137Z",
     "iopub.status.busy": "2023-10-09T02:36:07.948803Z",
     "iopub.status.idle": "2023-10-09T02:36:08.593479Z",
     "shell.execute_reply": "2023-10-09T02:36:08.592065Z"
    },
    "papermill": {
     "duration": 0.657819,
     "end_time": "2023-10-09T02:36:08.596262",
     "exception": false,
     "start_time": "2023-10-09T02:36:07.938443",
     "status": "completed"
    },
    "tags": []
   },
   "outputs": [],
   "source": [
    "from sklearn.compose import ColumnTransformer\n",
    "from sklearn.pipeline import Pipeline\n",
    "from sklearn.impute import SimpleImputer\n",
    "from sklearn.preprocessing import StandardScaler, RobustScaler, OneHotEncoder, FunctionTransformer\n",
    "from sklearn.metrics import accuracy_score\n",
    "\n",
    "inital_transformer = Pipeline(steps=[('clean', FunctionTransformer(clean_cols))])\n",
    "\n",
    "numerical_transformer_robust = Pipeline(steps=[\n",
    "    ('imputer', SimpleImputer(strategy='constant',fill_value=0)),\n",
    "    ('scaler', RobustScaler())\n",
    "])\n",
    "\n",
    "numerical_transformer_standard = Pipeline(steps=[\n",
    "    ('imputer', SimpleImputer(strategy='constant',fill_value=0)),\n",
    "    ('scaler', StandardScaler())\n",
    "])\n",
    "\n",
    "\n",
    "age_transformer = Pipeline(steps=[\n",
    "    ('imputer', SimpleImputer(strategy='mean')),\n",
    "    ('scaler', StandardScaler())\n",
    "])\n",
    "\n",
    "categorical_transformer = Pipeline(steps=[\n",
    "    ('encode',OneHotEncoder(handle_unknown='error'))\n",
    "])"
   ]
  },
  {
   "cell_type": "code",
   "execution_count": 11,
   "id": "0da38c81",
   "metadata": {
    "execution": {
     "iopub.execute_input": "2023-10-09T02:36:08.616986Z",
     "iopub.status.busy": "2023-10-09T02:36:08.615825Z",
     "iopub.status.idle": "2023-10-09T02:36:08.653745Z",
     "shell.execute_reply": "2023-10-09T02:36:08.652218Z"
    },
    "papermill": {
     "duration": 0.050622,
     "end_time": "2023-10-09T02:36:08.656224",
     "exception": false,
     "start_time": "2023-10-09T02:36:08.605602",
     "status": "completed"
    },
    "tags": []
   },
   "outputs": [],
   "source": [
    "from sklearn.model_selection import train_test_split\n",
    "\n",
    "df_clean = clean_cols(df)\n",
    "\n",
    "X_train, X_val, y_train, y_val = train_test_split(df_clean.drop('Transported',axis=1), df_clean['Transported'], test_size=0.25)"
   ]
  },
  {
   "cell_type": "code",
   "execution_count": 12,
   "id": "5998e4ba",
   "metadata": {
    "execution": {
     "iopub.execute_input": "2023-10-09T02:36:08.676906Z",
     "iopub.status.busy": "2023-10-09T02:36:08.675680Z",
     "iopub.status.idle": "2023-10-09T02:36:08.682603Z",
     "shell.execute_reply": "2023-10-09T02:36:08.681273Z"
    },
    "papermill": {
     "duration": 0.019684,
     "end_time": "2023-10-09T02:36:08.684788",
     "exception": false,
     "start_time": "2023-10-09T02:36:08.665104",
     "status": "completed"
    },
    "tags": []
   },
   "outputs": [],
   "source": [
    "categorical_cols = ['HomePlanet', 'CryoSleep', 'Destination', 'VIP', 'CabinDeck']\n",
    "\n",
    "numerical_cols = ['RoomService', 'FoodCourt', 'ShoppingMall', 'Spa', 'VRDeck']\n",
    "\n",
    "preprocessor1 = ColumnTransformer([\n",
    "    ('num', numerical_transformer_standard, numerical_cols),\n",
    "    ('age', age_transformer, ['Age']),\n",
    "    ('cat', categorical_transformer, categorical_cols)\n",
    "])\n",
    "\n",
    "preprocessor2 = ColumnTransformer([\n",
    "    ('num', numerical_transformer_robust, numerical_cols),\n",
    "    ('age', age_transformer, ['Age']),\n",
    "    ('cat', categorical_transformer, categorical_cols)\n",
    "])\n"
   ]
  },
  {
   "cell_type": "code",
   "execution_count": 13,
   "id": "67e646fd",
   "metadata": {
    "execution": {
     "iopub.execute_input": "2023-10-09T02:36:08.704138Z",
     "iopub.status.busy": "2023-10-09T02:36:08.703407Z",
     "iopub.status.idle": "2023-10-09T02:36:08.708287Z",
     "shell.execute_reply": "2023-10-09T02:36:08.707386Z"
    },
    "papermill": {
     "duration": 0.016896,
     "end_time": "2023-10-09T02:36:08.710430",
     "exception": false,
     "start_time": "2023-10-09T02:36:08.693534",
     "status": "completed"
    },
    "tags": []
   },
   "outputs": [],
   "source": [
    "def eval_model(pipe, name, X_train=X_train,y_train=y_train,X_val=X_val,y_val=y_val):\n",
    "    pipe.fit(X_train,y_train)\n",
    "    val_pred = pipe.predict(X_val)\n",
    "    \n",
    "    train_acc = accuracy_score(y_val,val_pred)\n",
    "    \n",
    "    print(f'Model: {name}')\n",
    "    print(f'Training Accuracy: {train_acc}')"
   ]
  },
  {
   "cell_type": "markdown",
   "id": "40a34818",
   "metadata": {
    "papermill": {
     "duration": 0.008153,
     "end_time": "2023-10-09T02:36:08.727290",
     "exception": false,
     "start_time": "2023-10-09T02:36:08.719137",
     "status": "completed"
    },
    "tags": []
   },
   "source": [
    "SVM Model"
   ]
  },
  {
   "cell_type": "code",
   "execution_count": 14,
   "id": "4d22befa",
   "metadata": {
    "execution": {
     "iopub.execute_input": "2023-10-09T02:36:08.746586Z",
     "iopub.status.busy": "2023-10-09T02:36:08.746243Z",
     "iopub.status.idle": "2023-10-09T02:36:08.751321Z",
     "shell.execute_reply": "2023-10-09T02:36:08.750065Z"
    },
    "papermill": {
     "duration": 0.017229,
     "end_time": "2023-10-09T02:36:08.753598",
     "exception": false,
     "start_time": "2023-10-09T02:36:08.736369",
     "status": "completed"
    },
    "tags": []
   },
   "outputs": [],
   "source": [
    "from sklearn.svm import SVC\n",
    "\n",
    "svc_stnd = Pipeline(steps=[\n",
    "    ('preprocess', preprocessor1),\n",
    "    ('model', SVC())\n",
    "])\n",
    "\n",
    "svc_robust = Pipeline(steps=[\n",
    "    ('preprocess', preprocessor2),\n",
    "    ('model', SVC())\n",
    "])"
   ]
  },
  {
   "cell_type": "code",
   "execution_count": 15,
   "id": "24b00e33",
   "metadata": {
    "execution": {
     "iopub.execute_input": "2023-10-09T02:36:08.772746Z",
     "iopub.status.busy": "2023-10-09T02:36:08.771633Z",
     "iopub.status.idle": "2023-10-09T02:36:12.619286Z",
     "shell.execute_reply": "2023-10-09T02:36:12.618060Z"
    },
    "papermill": {
     "duration": 3.859373,
     "end_time": "2023-10-09T02:36:12.621546",
     "exception": false,
     "start_time": "2023-10-09T02:36:08.762173",
     "status": "completed"
    },
    "tags": []
   },
   "outputs": [
    {
     "name": "stdout",
     "output_type": "stream",
     "text": [
      "Model: SVC Standard Scaling\n",
      "Training Accuracy: 0.7992125984251969\n",
      "Model: SVC Robust Scaling\n",
      "Training Accuracy: 0.7928149606299213\n"
     ]
    }
   ],
   "source": [
    "eval_model(svc_stnd, 'SVC Standard Scaling')\n",
    "eval_model(svc_robust, 'SVC Robust Scaling')"
   ]
  },
  {
   "cell_type": "markdown",
   "id": "67f3aea8",
   "metadata": {
    "papermill": {
     "duration": 0.008285,
     "end_time": "2023-10-09T02:36:12.638545",
     "exception": false,
     "start_time": "2023-10-09T02:36:12.630260",
     "status": "completed"
    },
    "tags": []
   },
   "source": [
    "KNN Model"
   ]
  },
  {
   "cell_type": "code",
   "execution_count": 16,
   "id": "71de44b2",
   "metadata": {
    "execution": {
     "iopub.execute_input": "2023-10-09T02:36:12.657209Z",
     "iopub.status.busy": "2023-10-09T02:36:12.656789Z",
     "iopub.status.idle": "2023-10-09T02:36:12.662077Z",
     "shell.execute_reply": "2023-10-09T02:36:12.661018Z"
    },
    "papermill": {
     "duration": 0.01698,
     "end_time": "2023-10-09T02:36:12.664085",
     "exception": false,
     "start_time": "2023-10-09T02:36:12.647105",
     "status": "completed"
    },
    "tags": []
   },
   "outputs": [],
   "source": [
    "from sklearn.neighbors import KNeighborsClassifier\n",
    "\n",
    "knn_stnd = Pipeline(steps=[\n",
    "    ('preprocess', preprocessor1),\n",
    "    ('model', KNeighborsClassifier())\n",
    "])\n",
    "\n",
    "knn_robust = Pipeline(steps=[\n",
    "    ('preprocess', preprocessor2),\n",
    "    ('model', KNeighborsClassifier())\n",
    "])"
   ]
  },
  {
   "cell_type": "code",
   "execution_count": 17,
   "id": "b72d910d",
   "metadata": {
    "execution": {
     "iopub.execute_input": "2023-10-09T02:36:12.682888Z",
     "iopub.status.busy": "2023-10-09T02:36:12.682515Z",
     "iopub.status.idle": "2023-10-09T02:36:13.080916Z",
     "shell.execute_reply": "2023-10-09T02:36:13.079536Z"
    },
    "papermill": {
     "duration": 0.41038,
     "end_time": "2023-10-09T02:36:13.083117",
     "exception": false,
     "start_time": "2023-10-09T02:36:12.672737",
     "status": "completed"
    },
    "tags": []
   },
   "outputs": [
    {
     "name": "stdout",
     "output_type": "stream",
     "text": [
      "Model: KNN Standard Scaling\n",
      "Training Accuracy: 0.7632874015748031\n",
      "Model: KNN Robust Scaling\n",
      "Training Accuracy: 0.7682086614173228\n"
     ]
    }
   ],
   "source": [
    "eval_model(knn_stnd, 'KNN Standard Scaling')\n",
    "eval_model(knn_robust, 'KNN Robust Scaling')"
   ]
  },
  {
   "cell_type": "markdown",
   "id": "c530d7e3",
   "metadata": {
    "papermill": {
     "duration": 0.008535,
     "end_time": "2023-10-09T02:36:13.100362",
     "exception": false,
     "start_time": "2023-10-09T02:36:13.091827",
     "status": "completed"
    },
    "tags": []
   },
   "source": [
    "KNN Seemed to score better than the SVC model. Let's see if we can improve our accuracy by adjusting some hyperparameters. Let's stick to the datacleaning process using the Robust Scaler as its scoring slightly better than the Standard Scaler."
   ]
  },
  {
   "cell_type": "code",
   "execution_count": 18,
   "id": "9cf4a4ae",
   "metadata": {
    "execution": {
     "iopub.execute_input": "2023-10-09T02:36:13.119969Z",
     "iopub.status.busy": "2023-10-09T02:36:13.119342Z",
     "iopub.status.idle": "2023-10-09T02:36:19.012811Z",
     "shell.execute_reply": "2023-10-09T02:36:19.011671Z"
    },
    "papermill": {
     "duration": 5.906226,
     "end_time": "2023-10-09T02:36:19.015502",
     "exception": false,
     "start_time": "2023-10-09T02:36:13.109276",
     "status": "completed"
    },
    "tags": []
   },
   "outputs": [
    {
     "name": "stdout",
     "output_type": "stream",
     "text": [
      "0.7772881753193484\n",
      "{'model__n_neighbors': 10, 'model__weights': 'uniform'}\n"
     ]
    }
   ],
   "source": [
    "from sklearn.model_selection import GridSearchCV\n",
    "\n",
    "params = {'model__n_neighbors': [2,3,4,5,8,10],'model__weights':['uniform','distance']}\n",
    "\n",
    "op_model = GridSearchCV(knn_robust,params,scoring='accuracy')\n",
    "\n",
    "op_model.fit(X_train,y_train)\n",
    "\n",
    "print(op_model.best_score_)\n",
    "print(op_model.best_params_)"
   ]
  },
  {
   "cell_type": "markdown",
   "id": "e093bc02",
   "metadata": {
    "papermill": {
     "duration": 0.008668,
     "end_time": "2023-10-09T02:36:19.097662",
     "exception": false,
     "start_time": "2023-10-09T02:36:19.088994",
     "status": "completed"
    },
    "tags": []
   },
   "source": [
    "While more neighbors improved test accuracy score, it tended to cause overfitting to the training data. Therefored I decided to go with 3 neighbors in my final model"
   ]
  },
  {
   "cell_type": "code",
   "execution_count": 19,
   "id": "a2851596",
   "metadata": {
    "execution": {
     "iopub.execute_input": "2023-10-09T02:36:19.117092Z",
     "iopub.status.busy": "2023-10-09T02:36:19.116684Z",
     "iopub.status.idle": "2023-10-09T02:36:19.303224Z",
     "shell.execute_reply": "2023-10-09T02:36:19.301483Z"
    },
    "papermill": {
     "duration": 0.19903,
     "end_time": "2023-10-09T02:36:19.305601",
     "exception": false,
     "start_time": "2023-10-09T02:36:19.106571",
     "status": "completed"
    },
    "tags": []
   },
   "outputs": [
    {
     "name": "stdout",
     "output_type": "stream",
     "text": [
      "Model: Optimized KNN Model\n",
      "Training Accuracy: 0.7573818897637795\n"
     ]
    }
   ],
   "source": [
    "final_model = Pipeline(steps=[\n",
    "    ('preprocess', preprocessor2),\n",
    "    ('model', KNeighborsClassifier(n_neighbors=3))\n",
    "])\n",
    "\n",
    "eval_model(final_model, 'Optimized KNN Model')"
   ]
  },
  {
   "cell_type": "markdown",
   "id": "194eb8a1",
   "metadata": {
    "papermill": {
     "duration": 0.009152,
     "end_time": "2023-10-09T02:36:19.324890",
     "exception": false,
     "start_time": "2023-10-09T02:36:19.315738",
     "status": "completed"
    },
    "tags": []
   },
   "source": [
    "Neural Network"
   ]
  },
  {
   "cell_type": "code",
   "execution_count": 20,
   "id": "c5b38d2a",
   "metadata": {
    "execution": {
     "iopub.execute_input": "2023-10-09T02:36:19.346235Z",
     "iopub.status.busy": "2023-10-09T02:36:19.345841Z",
     "iopub.status.idle": "2023-10-09T02:36:19.369809Z",
     "shell.execute_reply": "2023-10-09T02:36:19.368816Z"
    },
    "papermill": {
     "duration": 0.037686,
     "end_time": "2023-10-09T02:36:19.372484",
     "exception": false,
     "start_time": "2023-10-09T02:36:19.334798",
     "status": "completed"
    },
    "tags": []
   },
   "outputs": [],
   "source": [
    "from sklearn.neural_network import MLPClassifier\n",
    "\n",
    "nn_stnd = Pipeline(steps=[\n",
    "    ('preprocess', preprocessor1),\n",
    "    ('model', MLPClassifier())\n",
    "])\n",
    "\n",
    "nn_robust = Pipeline(steps=[\n",
    "    ('preprocess', preprocessor2),\n",
    "    ('model', MLPClassifier())\n",
    "])"
   ]
  },
  {
   "cell_type": "code",
   "execution_count": 21,
   "id": "12760373",
   "metadata": {
    "execution": {
     "iopub.execute_input": "2023-10-09T02:36:19.394633Z",
     "iopub.status.busy": "2023-10-09T02:36:19.393686Z",
     "iopub.status.idle": "2023-10-09T02:36:36.064824Z",
     "shell.execute_reply": "2023-10-09T02:36:36.063207Z"
    },
    "papermill": {
     "duration": 16.688739,
     "end_time": "2023-10-09T02:36:36.072115",
     "exception": false,
     "start_time": "2023-10-09T02:36:19.383376",
     "status": "completed"
    },
    "tags": []
   },
   "outputs": [
    {
     "name": "stderr",
     "output_type": "stream",
     "text": [
      "/opt/conda/lib/python3.10/site-packages/sklearn/neural_network/_multilayer_perceptron.py:686: ConvergenceWarning: Stochastic Optimizer: Maximum iterations (200) reached and the optimization hasn't converged yet.\n",
      "  warnings.warn(\n"
     ]
    },
    {
     "name": "stdout",
     "output_type": "stream",
     "text": [
      "Model: Neural Network Standard Scaling\n",
      "Training Accuracy: 0.8011811023622047\n",
      "Model: Neural Network Scaling\n",
      "Training Accuracy: 0.8080708661417323\n"
     ]
    }
   ],
   "source": [
    "eval_model(nn_stnd, 'Neural Network Standard Scaling')\n",
    "eval_model(nn_robust, 'Neural Network Scaling')"
   ]
  },
  {
   "cell_type": "markdown",
   "id": "096df6de",
   "metadata": {
    "papermill": {
     "duration": 0.026258,
     "end_time": "2023-10-09T02:36:36.126641",
     "exception": false,
     "start_time": "2023-10-09T02:36:36.100383",
     "status": "completed"
    },
    "tags": []
   },
   "source": [
    "Decision Tree Classifier"
   ]
  },
  {
   "cell_type": "code",
   "execution_count": 22,
   "id": "3a2e2223",
   "metadata": {
    "execution": {
     "iopub.execute_input": "2023-10-09T02:36:36.182389Z",
     "iopub.status.busy": "2023-10-09T02:36:36.181996Z",
     "iopub.status.idle": "2023-10-09T02:36:36.366628Z",
     "shell.execute_reply": "2023-10-09T02:36:36.365107Z"
    },
    "papermill": {
     "duration": 0.213873,
     "end_time": "2023-10-09T02:36:36.368816",
     "exception": false,
     "start_time": "2023-10-09T02:36:36.154943",
     "status": "completed"
    },
    "tags": []
   },
   "outputs": [
    {
     "name": "stdout",
     "output_type": "stream",
     "text": [
      "Model: Decision Tree Standard Scaling\n",
      "Training Accuracy: 0.7239173228346457\n",
      "Model: Decision Tree Robust Scaling\n",
      "Training Accuracy: 0.7273622047244095\n"
     ]
    }
   ],
   "source": [
    "from sklearn.tree import DecisionTreeClassifier\n",
    "\n",
    "dt_stnd = Pipeline(steps=[\n",
    "    ('preprocess', preprocessor1),\n",
    "    ('model', DecisionTreeClassifier())\n",
    "])\n",
    "\n",
    "dt_robust = Pipeline(steps=[\n",
    "    ('preprocess', preprocessor2),\n",
    "    ('model', DecisionTreeClassifier())\n",
    "])\n",
    "\n",
    "eval_model(dt_stnd, 'Decision Tree Standard Scaling')\n",
    "eval_model(dt_robust, 'Decision Tree Robust Scaling')"
   ]
  },
  {
   "cell_type": "markdown",
   "id": "d7bab6e0",
   "metadata": {
    "papermill": {
     "duration": 0.009071,
     "end_time": "2023-10-09T02:36:36.387257",
     "exception": false,
     "start_time": "2023-10-09T02:36:36.378186",
     "status": "completed"
    },
    "tags": []
   },
   "source": [
    "**_______________________________________________________________________________________________________________________________________**"
   ]
  },
  {
   "cell_type": "markdown",
   "id": "e8764601",
   "metadata": {
    "papermill": {
     "duration": 0.008992,
     "end_time": "2023-10-09T02:36:36.405653",
     "exception": false,
     "start_time": "2023-10-09T02:36:36.396661",
     "status": "completed"
    },
    "tags": []
   },
   "source": [
    "Improving on the Decision Tree Model:"
   ]
  },
  {
   "cell_type": "code",
   "execution_count": 23,
   "id": "ef7b26e6",
   "metadata": {
    "execution": {
     "iopub.execute_input": "2023-10-09T02:36:36.425782Z",
     "iopub.status.busy": "2023-10-09T02:36:36.425231Z",
     "iopub.status.idle": "2023-10-09T02:36:36.432977Z",
     "shell.execute_reply": "2023-10-09T02:36:36.431806Z"
    },
    "papermill": {
     "duration": 0.02012,
     "end_time": "2023-10-09T02:36:36.435043",
     "exception": false,
     "start_time": "2023-10-09T02:36:36.414923",
     "status": "completed"
    },
    "tags": []
   },
   "outputs": [],
   "source": [
    "def clean_cols(d):\n",
    "    df = d.copy()\n",
    "    df['CabinDeck'] = df['Cabin'].str.split('/',expand=True)[0]\n",
    "    df = df.drop(['PassengerId','Cabin','Name'],axis=1)\n",
    "    df[['VIP','CryoSleep']] = df[['VIP','CryoSleep']].fillna(False)\n",
    "    df[['CryoSleep','VIP']] = df[['CryoSleep', 'VIP']].astype(bool)\n",
    "    df = df.dropna(how='any', subset=['HomePlanet','CabinDeck','Destination'])\n",
    "    df[['RoomService','ShoppingMall','Spa','VRDeck','FoodCourt']] = df[['RoomService','ShoppingMall','Spa','VRDeck','FoodCourt']].fillna(0)\n",
    "    df['Age'] = df['Age'].fillna(df['Age'].mean())\n",
    "    df = pd.get_dummies(df, columns=['HomePlanet','CryoSleep','VIP','CabinDeck','Destination'])\n",
    "    return df"
   ]
  },
  {
   "cell_type": "code",
   "execution_count": 24,
   "id": "be93c456",
   "metadata": {
    "execution": {
     "iopub.execute_input": "2023-10-09T02:36:36.455066Z",
     "iopub.status.busy": "2023-10-09T02:36:36.454629Z",
     "iopub.status.idle": "2023-10-09T02:36:36.500949Z",
     "shell.execute_reply": "2023-10-09T02:36:36.499747Z"
    },
    "papermill": {
     "duration": 0.05948,
     "end_time": "2023-10-09T02:36:36.503665",
     "exception": false,
     "start_time": "2023-10-09T02:36:36.444185",
     "status": "completed"
    },
    "tags": []
   },
   "outputs": [
    {
     "data": {
      "text/plain": [
       "Age                          0\n",
       "RoomService                  0\n",
       "FoodCourt                    0\n",
       "ShoppingMall                 0\n",
       "Spa                          0\n",
       "VRDeck                       0\n",
       "Transported                  0\n",
       "HomePlanet_Earth             0\n",
       "HomePlanet_Europa            0\n",
       "HomePlanet_Mars              0\n",
       "CryoSleep_False              0\n",
       "CryoSleep_True               0\n",
       "VIP_False                    0\n",
       "VIP_True                     0\n",
       "CabinDeck_A                  0\n",
       "CabinDeck_B                  0\n",
       "CabinDeck_C                  0\n",
       "CabinDeck_D                  0\n",
       "CabinDeck_E                  0\n",
       "CabinDeck_F                  0\n",
       "CabinDeck_G                  0\n",
       "CabinDeck_T                  0\n",
       "Destination_55 Cancri e      0\n",
       "Destination_PSO J318.5-22    0\n",
       "Destination_TRAPPIST-1e      0\n",
       "dtype: int64"
      ]
     },
     "execution_count": 24,
     "metadata": {},
     "output_type": "execute_result"
    }
   ],
   "source": [
    "df_tree = clean_cols(df)\n",
    "df_tree.isnull().sum()"
   ]
  },
  {
   "cell_type": "code",
   "execution_count": 25,
   "id": "a5bc7a17",
   "metadata": {
    "execution": {
     "iopub.execute_input": "2023-10-09T02:36:36.524964Z",
     "iopub.status.busy": "2023-10-09T02:36:36.523712Z",
     "iopub.status.idle": "2023-10-09T02:36:36.533402Z",
     "shell.execute_reply": "2023-10-09T02:36:36.532393Z"
    },
    "papermill": {
     "duration": 0.022713,
     "end_time": "2023-10-09T02:36:36.535790",
     "exception": false,
     "start_time": "2023-10-09T02:36:36.513077",
     "status": "completed"
    },
    "tags": []
   },
   "outputs": [],
   "source": [
    "X_train, X_val, y_train, y_val = train_test_split(df_tree.drop('Transported',axis=1), df_tree['Transported'],test_size=0.2)"
   ]
  },
  {
   "cell_type": "code",
   "execution_count": 26,
   "id": "3c52ea8e",
   "metadata": {
    "execution": {
     "iopub.execute_input": "2023-10-09T02:36:36.558294Z",
     "iopub.status.busy": "2023-10-09T02:36:36.557927Z",
     "iopub.status.idle": "2023-10-09T02:36:43.814566Z",
     "shell.execute_reply": "2023-10-09T02:36:43.812960Z"
    },
    "papermill": {
     "duration": 7.270903,
     "end_time": "2023-10-09T02:36:43.817668",
     "exception": false,
     "start_time": "2023-10-09T02:36:36.546765",
     "status": "completed"
    },
    "tags": []
   },
   "outputs": [
    {
     "name": "stdout",
     "output_type": "stream",
     "text": [
      "0.7756923076923077\n",
      "{'criterion': 'entropy', 'max_depth': 10, 'min_samples_leaf': 2, 'min_samples_split': 10}\n"
     ]
    }
   ],
   "source": [
    "params = {\n",
    "    'criterion' : ['gini','entropy'],\n",
    "    'max_depth' : [3,5,7,10],\n",
    "    'min_samples_split' : [2,5,10],\n",
    "    'min_samples_leaf' : [1, 2, 5]\n",
    "}\n",
    "\n",
    "grid = GridSearchCV(DecisionTreeClassifier(),params,scoring='accuracy', cv=5)\n",
    "\n",
    "grid.fit(X_train,y_train)\n",
    "\n",
    "print(grid.best_score_)\n",
    "print(grid.best_params_)"
   ]
  },
  {
   "cell_type": "markdown",
   "id": "6de3454b",
   "metadata": {
    "papermill": {
     "duration": 0.009206,
     "end_time": "2023-10-09T02:36:43.836468",
     "exception": false,
     "start_time": "2023-10-09T02:36:43.827262",
     "status": "completed"
    },
    "tags": []
   },
   "source": [
    "**Submission**"
   ]
  },
  {
   "cell_type": "code",
   "execution_count": 27,
   "id": "63a181da",
   "metadata": {
    "execution": {
     "iopub.execute_input": "2023-10-09T02:36:43.857895Z",
     "iopub.status.busy": "2023-10-09T02:36:43.857527Z",
     "iopub.status.idle": "2023-10-09T02:36:43.864868Z",
     "shell.execute_reply": "2023-10-09T02:36:43.863638Z"
    },
    "papermill": {
     "duration": 0.020425,
     "end_time": "2023-10-09T02:36:43.867207",
     "exception": false,
     "start_time": "2023-10-09T02:36:43.846782",
     "status": "completed"
    },
    "tags": []
   },
   "outputs": [],
   "source": [
    "def clean_cols_mod(d):\n",
    "    df = d.copy()\n",
    "    df['CabinDeck'] = df['Cabin'].str.split('/',expand=True)[0]\n",
    "    df = df.drop(['Cabin','Name'],axis=1)\n",
    "    df[['VIP','CryoSleep']] = df[['VIP','CryoSleep']].fillna(False)\n",
    "    df[['CryoSleep','VIP']] = df[['CryoSleep', 'VIP']].astype(bool)\n",
    "    for col in ['HomePlanet','CabinDeck','Destination']:\n",
    "        df[col] = df[col].fillna(df[col].mode()[0])\n",
    "    df[['RoomService','ShoppingMall','Spa','VRDeck','FoodCourt']] = df[['RoomService','ShoppingMall','Spa','VRDeck','FoodCourt']].fillna(0)\n",
    "    df['Age'] = df['Age'].fillna(df['Age'].mean())\n",
    "    df = pd.get_dummies(df, columns=['HomePlanet','CryoSleep','VIP','CabinDeck','Destination'])\n",
    "    return df"
   ]
  },
  {
   "cell_type": "code",
   "execution_count": 28,
   "id": "4ef13222",
   "metadata": {
    "execution": {
     "iopub.execute_input": "2023-10-09T02:36:43.888656Z",
     "iopub.status.busy": "2023-10-09T02:36:43.888290Z",
     "iopub.status.idle": "2023-10-09T02:36:43.951446Z",
     "shell.execute_reply": "2023-10-09T02:36:43.950237Z"
    },
    "papermill": {
     "duration": 0.077198,
     "end_time": "2023-10-09T02:36:43.954220",
     "exception": false,
     "start_time": "2023-10-09T02:36:43.877022",
     "status": "completed"
    },
    "tags": []
   },
   "outputs": [],
   "source": [
    "test_data = pd.read_csv('/kaggle/input/spaceship-titanic/test.csv')\n",
    "df_test = clean_cols_mod(test_data)\n",
    "\n",
    "X_test = df_test.drop('PassengerId',axis=1)\n",
    "\n",
    "test_preds = grid.best_estimator_.predict(X_test)\n",
    "\n",
    "tree_submission = pd.DataFrame({'PassengerId': test_data.PassengerId, 'Transported': test_preds})"
   ]
  },
  {
   "cell_type": "code",
   "execution_count": 29,
   "id": "26871884",
   "metadata": {
    "execution": {
     "iopub.execute_input": "2023-10-09T02:36:43.976762Z",
     "iopub.status.busy": "2023-10-09T02:36:43.976345Z",
     "iopub.status.idle": "2023-10-09T02:36:43.990562Z",
     "shell.execute_reply": "2023-10-09T02:36:43.989269Z"
    },
    "papermill": {
     "duration": 0.028032,
     "end_time": "2023-10-09T02:36:43.993249",
     "exception": false,
     "start_time": "2023-10-09T02:36:43.965217",
     "status": "completed"
    },
    "tags": []
   },
   "outputs": [],
   "source": [
    "tree_submission.to_csv('submission1.csv',index=False)"
   ]
  }
 ],
 "metadata": {
  "kernelspec": {
   "display_name": "Python 3",
   "language": "python",
   "name": "python3"
  },
  "language_info": {
   "codemirror_mode": {
    "name": "ipython",
    "version": 3
   },
   "file_extension": ".py",
   "mimetype": "text/x-python",
   "name": "python",
   "nbconvert_exporter": "python",
   "pygments_lexer": "ipython3",
   "version": "3.10.12"
  },
  "papermill": {
   "default_parameters": {},
   "duration": 43.207377,
   "end_time": "2023-10-09T02:36:44.726608",
   "environment_variables": {},
   "exception": null,
   "input_path": "__notebook__.ipynb",
   "output_path": "__notebook__.ipynb",
   "parameters": {},
   "start_time": "2023-10-09T02:36:01.519231",
   "version": "2.4.0"
  }
 },
 "nbformat": 4,
 "nbformat_minor": 5
}
